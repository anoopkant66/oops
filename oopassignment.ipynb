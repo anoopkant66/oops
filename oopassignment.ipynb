{
  "nbformat": 4,
  "nbformat_minor": 0,
  "metadata": {
    "colab": {
      "provenance": []
    },
    "kernelspec": {
      "name": "python3",
      "display_name": "Python 3"
    },
    "language_info": {
      "name": "python"
    }
  },
  "cells": [
    {
      "cell_type": "markdown",
      "source": [
        "# ***THEORY QUESTIONS***\n",
        "\n"
      ],
      "metadata": {
        "id": "HCDxr9p_zGFL"
      }
    },
    {
      "cell_type": "markdown",
      "source": [
        "\n",
        "1.What is Object-Oriented Programming (OOP)?\n",
        "\n",
        "Object-Oriented Programming is a paradigm that organizes code using objects. It focuses on concepts like encapsulation, inheritance, abstraction, and polymorphism.\n",
        "\n",
        "2.What is a class in OOP?\n",
        "\n",
        "A class is a blueprint for creating objects. It defines attributes and methods that its instances will have.\n",
        "\n",
        "3.What is an object in OOP?\n",
        "\n",
        "An object is an instance of a class containing data and behavior defined by the class.\n",
        "\n",
        "4.What is the difference between abstraction and encapsulation?\n",
        "\n",
        "Abstraction hides complex implementation and shows only necessary features. Encapsulation hides the internal state of an object, requiring interaction through methods.\n",
        "\n",
        "5.What are dunder methods in Python?\n",
        "\n",
        "Dunder methods (like __init__, __str__) are special methods that begin and end with double underscores. They customize class behavior.\n",
        "\n",
        "6.Explain the concept of inheritance in OOP?\n",
        "\n",
        "Inheritance allows a class to derive properties and behaviors from another class, promoting code reuse.\n",
        "\n",
        "7.What is polymorphism in OOP?\n",
        "\n",
        "Polymorphism allows the same operation to behave differently on different classes.\n",
        "\n",
        "8.How is encapsulation achieved in Python?\n",
        "\n",
        "Encapsulation is achieved by using private attributes and providing methods to access or modify them.\n",
        "\n",
        "9.What is a constructor in Python?\n",
        "\n",
        "A constructor is a special method (__init__) that initializes new objects.\n",
        "\n",
        "10.What are class and static methods in Python?\n",
        "\n",
        "Class methods use @classmethod and take 'cls' as argument. Static methods use @staticmethod and do not access class or instance data.\n",
        "\n",
        "11.What is method overloading in Python?\n",
        "\n",
        "Python doesn’t support traditional method overloading but it can be simulated with default or variable arguments.\n",
        "\n",
        "12.What is method overriding in OOP?\n",
        "\n",
        "Overriding allows a subclass to provide a specific implementation of a method already defined in the parent class.\n",
        "\n",
        "13.What is a property decorator in Python?\n",
        "\n",
        "The @property decorator turns a method into a read-only property, allowing access like an attribute.\n",
        "\n",
        "14.Why is polymorphism important in OOP?\n",
        "\n",
        "Polymorphism increases flexibility and scalability by allowing different objects to use the same interface.\n",
        "\n",
        "15.What is an abstract class in Python?\n",
        "\n",
        "An abstract class can’t be instantiated and requires subclasses to implement abstract methods. It’s defined using the abc module.\n",
        "\n",
        "16.What are the advantages of OOP?\n",
        "\n",
        "OOP provides modularity, code reuse, easier debugging, scalability, and better structure through encapsulation and inheritance.\n",
        "\n",
        "17.What is the difference between a class variable and an instance variable?\n",
        "\n",
        "Class variables are shared across all instances; instance variables are specific to each object.\n",
        "\n",
        "18.What is multiple inheritance in Python?\n",
        "\n",
        "Multiple inheritance allows a class to inherit from more than one parent class.\n",
        "\n",
        "19.Explain the purpose of '__str__' and '__repr__' methods in Python?\n",
        "\n",
        "__str__ provides a human-readable representation; __repr__ provides an unambiguous one, mostly for debugging.\n",
        "\n",
        "20.What is the significance of the 'super()' function in Python?\n",
        "\n",
        "super() allows you to call methods from a parent class, useful in constructors and overridden methods.\n",
        "\n",
        "21.What is the significance of the '__del__' method in Python?\n",
        "\n",
        "__del__ is a destructor method called when an object is deleted; it's used for cleanup.\n",
        "\n",
        "22.What is the difference between @staticmethod and @classmethod in Python?\n",
        "\n",
        "@staticmethod doesn't access class or instance data, while @classmethod works with class-level data using 'cls'.\n",
        "\n",
        "23.How does polymorphism work in Python with inheritance?\n",
        "Subclasses can override methods from parent classes; the appropriate method is called based on the object's class.\n",
        "\n",
        "24.What is method chaining in Python OOP?\n",
        "\n",
        "\n",
        "Method chaining is returning 'self' from a method to call multiple methods in one line.\n",
        "\n",
        "25.What is the purpose of the '__call__' method in Python?\n",
        "\n",
        "__call__ allows an instance to be called like a function, adding callable behavior to objects.\n"
      ],
      "metadata": {
        "id": "PHfb2MXczbhk"
      }
    },
    {
      "cell_type": "markdown",
      "source": [
        "# ***PRACTICAL QUESTIONS***"
      ],
      "metadata": {
        "id": "NMwmu8qQ18ZS"
      }
    },
    {
      "cell_type": "markdown",
      "source": [
        "1. Create a parent class Animal with a method speak() that prints a generic message. Create a child class Dog\n",
        "that overrides the speak() method to print \"Bark!\"."
      ],
      "metadata": {
        "id": "PryBsoFIIi-8"
      }
    },
    {
      "cell_type": "code",
      "execution_count": null,
      "metadata": {
        "colab": {
          "base_uri": "https://localhost:8080/"
        },
        "id": "zjiRkARyyacI",
        "outputId": "5fdf848b-8a7f-4ed0-9909-0f96a9206c79"
      },
      "outputs": [
        {
          "output_type": "stream",
          "name": "stdout",
          "text": [
            "some generic sound\n",
            "bark\n"
          ]
        }
      ],
      "source": [
        "class animal:\n",
        "  def speak(self):\n",
        "   print(\"some generic sound\")\n",
        "\n",
        "class dog(animal):\n",
        "  def speak(self):\n",
        "    print(\"bark\")\n",
        "\n",
        "a = animal()\n",
        "a.speak()\n",
        "b = dog()\n",
        "b.speak()"
      ]
    },
    {
      "cell_type": "markdown",
      "source": [
        "2. Write a program to create an abstract class Shape with a method area(). Derive classes Circle and Rectangle\n",
        "from it and implement the area() method in both.\n"
      ],
      "metadata": {
        "id": "ODz_xKbyzEgU"
      }
    },
    {
      "cell_type": "code",
      "source": [
        "from abc import ABC, abstractmethod\n",
        "class shape(ABC):\n",
        "  def area(self):\n",
        "    pass\n",
        "\n",
        "class circle (shape):\n",
        "    def __init__(self, r):\n",
        "      self.r = r\n",
        "    def area(self):\n",
        "      return 3.14*self.r*self.r\n",
        "\n",
        "class rectangle(shape):\n",
        "    def __init__(self, l, b):\n",
        "      self.l = l\n",
        "      self.b = b\n",
        "    def area(self):\n",
        "      return self.l*self.b\n",
        "\n",
        "c = circle(5)\n",
        "print(c.area())\n",
        "r = rectangle(4,5)\n",
        "print(r.area())\n"
      ],
      "metadata": {
        "colab": {
          "base_uri": "https://localhost:8080/"
        },
        "id": "8xYdSCynPRIG",
        "outputId": "7b0f2d79-8f01-4c33-8759-bd26d70f3edd"
      },
      "execution_count": null,
      "outputs": [
        {
          "output_type": "stream",
          "name": "stdout",
          "text": [
            "78.5\n",
            "20\n"
          ]
        }
      ]
    },
    {
      "cell_type": "markdown",
      "source": [
        "3. Implement a multi-level inheritance scenario where a class Vehicle has an attribute type. Derive a class Car\n",
        "and further derive a class ElectricCar that adds a battery attribute."
      ],
      "metadata": {
        "id": "TqJ7GjCqExs4"
      }
    },
    {
      "cell_type": "code",
      "source": [
        "class vehicle:\n",
        "  def __init__(self, name , brand):\n",
        "    self.name = name\n",
        "    self.brand = brand\n",
        "\n",
        "class car(vehicle):\n",
        "  def __init__(self, name, brand, v_type):\n",
        "    super().__init__(name, brand)\n",
        "    self.v_type = v_type\n",
        "\n",
        "class electriccar(car):\n",
        "  def __init__(self, name, brand, v_type, battery):\n",
        "    super().__init__(name, brand, v_type)\n",
        "    self.battery = battery\n",
        "\n",
        "a = vehicle(\"tata&co\", \"tata\")\n",
        "print(a.name, a.brand)\n",
        "b = car(\"tata&co\", \"tata\", \"suv\")\n",
        "print(b.name, b.brand, b.v_type)\n",
        "c = electriccar(\"tata&co\", \"tata\", \"suv\", \"electricbattery\")\n",
        "print(c.name, c.brand, c.v_type, c.battery)"
      ],
      "metadata": {
        "id": "aahY4OHaS4aA",
        "colab": {
          "base_uri": "https://localhost:8080/"
        },
        "outputId": "399b81d4-3e44-4fc3-cd21-8248c8651081"
      },
      "execution_count": null,
      "outputs": [
        {
          "output_type": "stream",
          "name": "stdout",
          "text": [
            "tata&co tata\n",
            "tata&co tata suv\n",
            "tata&co tata suv electricbattery\n"
          ]
        }
      ]
    },
    {
      "cell_type": "markdown",
      "source": [
        "4. Demonstrate polymorphism by creating a base class Bird with a method fly(). Create two derived classes\n",
        "Sparrow and Penguin that override the fly() method.\n"
      ],
      "metadata": {
        "id": "ClEu8E_7Jsv6"
      }
    },
    {
      "cell_type": "code",
      "source": [
        "class bird:\n",
        "  def fly(self):\n",
        "    pass\n",
        "\n",
        "class sparrow(bird):\n",
        "  def fly(self):\n",
        "    print(\"sparrow can fly\")\n",
        "\n",
        "class penguin(bird):\n",
        "  def fly(self):\n",
        "    print(\"pengiun can not fly\")\n",
        "\n",
        "b1 = sparrow()\n",
        "b1.fly()\n",
        "b2 = penguin()\n",
        "b2.fly()\n",
        "birds = [sparrow(), penguin()]\n",
        "for b in birds:\n",
        "  b.fly()"
      ],
      "metadata": {
        "id": "6Mja4B1eHojS",
        "colab": {
          "base_uri": "https://localhost:8080/"
        },
        "outputId": "8909fdf0-7d20-44cd-c767-67a9a3c68d2a"
      },
      "execution_count": null,
      "outputs": [
        {
          "output_type": "stream",
          "name": "stdout",
          "text": [
            "sparrow can fly\n",
            "pengiun can not fly\n",
            "sparrow can fly\n",
            "pengiun can not fly\n"
          ]
        }
      ]
    },
    {
      "cell_type": "markdown",
      "source": [
        "5. Write a program to demonstrate encapsulation by creating a class BankAccount with private attributes\n",
        "balance and methods to deposit, withdraw, and check balance."
      ],
      "metadata": {
        "id": "m_oW3r3kn4tH"
      }
    },
    {
      "cell_type": "code",
      "source": [
        "class bankaccount:\n",
        "  def __init__(self, balance):\n",
        "    self.__balance = balance\n",
        "  def deposit(self, amount):\n",
        "    self.__balance += amount\n",
        "  def withdrawl(self, amount):\n",
        "    if amount <= self.__balance:\n",
        "      self.__balance -= amount\n",
        "    else:\n",
        "      print(\"insufficent balance\")\n",
        "  def balance(self):\n",
        "    return self.__balance\n",
        "\n",
        "a = bankaccount(10000)\n",
        "a.deposit(5000)\n",
        "print(a.balance())\n",
        "a.withdrawl(4000)\n",
        "print(a.balance())\n",
        "a.balance()\n"
      ],
      "metadata": {
        "colab": {
          "base_uri": "https://localhost:8080/"
        },
        "id": "tVKr08MYn57h",
        "outputId": "3c458ecd-13c9-442d-d969-5ecc2bb31c16"
      },
      "execution_count": null,
      "outputs": [
        {
          "output_type": "stream",
          "name": "stdout",
          "text": [
            "15000\n",
            "11000\n"
          ]
        },
        {
          "output_type": "execute_result",
          "data": {
            "text/plain": [
              "11000"
            ]
          },
          "metadata": {},
          "execution_count": 18
        }
      ]
    },
    {
      "cell_type": "markdown",
      "source": [
        "6. Demonstrate runtime polymorphism using a method play() in a base class Instrument. Derive classes Guitar\n",
        "and Piano that implement their own version of play()."
      ],
      "metadata": {
        "id": "Yd16Jla3tOHh"
      }
    },
    {
      "cell_type": "code",
      "source": [
        "class Instrument:\n",
        "    def play(self):\n",
        "        pass\n",
        "\n",
        "class Guitar(Instrument):\n",
        "    def play(self):\n",
        "        print(\"Acha sound hai\")\n",
        "\n",
        "class Piano(Instrument):\n",
        "    def play(self):\n",
        "        print(\"Maja nahi aya\")\n",
        "\n",
        "def perform(instrument):\n",
        "    instrument.play()\n",
        "\n",
        "# Polymorphism in action\n",
        "perform(Guitar())  # Output: Acha sound hai\n",
        "perform(Piano())   # Output: Maja nahi aya\n"
      ],
      "metadata": {
        "id": "qtB3HJ_utO1F"
      },
      "execution_count": null,
      "outputs": []
    },
    {
      "cell_type": "markdown",
      "source": [
        "7. Create a class MathOperations with a class method add_numbers() to add two numbers and a static\n",
        "method subtract_numbers() to subtract two numbers.\n"
      ],
      "metadata": {
        "id": "Q_6Xm1mb5fG4"
      }
    },
    {
      "cell_type": "code",
      "source": [
        "class MathOperations:\n",
        "\n",
        "    @classmethod\n",
        "    def add_numbers(cls, a, b):\n",
        "        return a + b\n",
        "\n",
        "    @staticmethod\n",
        "    def subtract_numbers(a, b):\n",
        "        return a - b\n",
        "\n",
        "# Using the class method\n",
        "sum_result = MathOperations.add_numbers(10, 5)\n",
        "print(\"Addition:\", sum_result)\n",
        "\n",
        "# Using the static method\n",
        "sub_result = MathOperations.subtract_numbers(10, 5)\n",
        "print(\"Subtraction:\", sub_result)\n",
        "\n",
        "\n"
      ],
      "metadata": {
        "id": "qXOT-Ai35ge2",
        "colab": {
          "base_uri": "https://localhost:8080/"
        },
        "outputId": "a34704ee-be4d-430b-f90c-e8be3ebdc965"
      },
      "execution_count": null,
      "outputs": [
        {
          "output_type": "stream",
          "name": "stdout",
          "text": [
            "Addition: 15\n",
            "Subtraction: 5\n"
          ]
        }
      ]
    },
    {
      "cell_type": "markdown",
      "source": [
        "8. Implement a class Person with a class method to count the total number of persons created"
      ],
      "metadata": {
        "id": "QPoTNrKC7noI"
      }
    },
    {
      "cell_type": "code",
      "source": [
        "from typing_extensions import AsyncGenerator\n",
        "class person:\n",
        "  count = 0\n",
        "  def __init__(self, name):\n",
        "    self.name = name\n",
        "    person.count += 1\n",
        "\n",
        "  @classmethod\n",
        "  def get_count(cls):\n",
        "    return cls.count\n",
        "\n",
        "p1 = person(\"a\")\n",
        "p2 = person(\"b\")\n",
        "p3 = person(\"c\")\n",
        "print(person.get_count())"
      ],
      "metadata": {
        "colab": {
          "base_uri": "https://localhost:8080/"
        },
        "id": "GlW4M_4L4oUG",
        "outputId": "aa6edd6a-a666-4c2d-a0bb-aa14af51762a"
      },
      "execution_count": null,
      "outputs": [
        {
          "output_type": "stream",
          "name": "stdout",
          "text": [
            "3\n"
          ]
        }
      ]
    },
    {
      "cell_type": "markdown",
      "source": [
        "9. Write a class Fraction with attributes numerator and denominator. Override the str method to display the\n",
        "fraction as \"numerator/denominator\".\n"
      ],
      "metadata": {
        "id": "rqKVl671_6P-"
      }
    },
    {
      "cell_type": "code",
      "source": [
        "class Fraction:\n",
        "    def __init__(self, numerator, denominator):\n",
        "        self.numerator = numerator\n",
        "        self.denominator = denominator\n",
        "\n",
        "    def __str__(self):\n",
        "        return f\"{self.numerator}/{self.denominator}\"\n",
        "\n",
        "# Create an object\n",
        "f1 = Fraction(3, 4)\n",
        "\n",
        "# Print the object\n",
        "print(f1)\n"
      ],
      "metadata": {
        "id": "Ujp4So6d8GV1",
        "colab": {
          "base_uri": "https://localhost:8080/"
        },
        "outputId": "32636dcb-185d-4033-a6a0-3bebcca193d0"
      },
      "execution_count": 58,
      "outputs": [
        {
          "output_type": "stream",
          "name": "stdout",
          "text": [
            "3/4\n"
          ]
        }
      ]
    },
    {
      "cell_type": "markdown",
      "source": [
        "10. Demonstrate operator overloading by creating a class Vector and overriding the add method to add two\n",
        "vectors."
      ],
      "metadata": {
        "id": "nRfx-YlLCdQp"
      }
    },
    {
      "cell_type": "code",
      "source": [
        "class Vector:\n",
        "    def __init__(self, x, y):\n",
        "        self.x = x\n",
        "        self.y = y\n",
        "\n",
        "    def __add__(self, other):\n",
        "        # Overloading the + operator\n",
        "        return Vector(self.x + other.x, self.y + other.y)\n",
        "\n",
        "    def __str__(self):\n",
        "        return f\"({self.x}, {self.y})\"\n",
        "\n",
        "# Create two vector objects\n",
        "v1 = Vector(2, 3)\n",
        "v2 = Vector(4, 5)\n",
        "\n",
        "# Add two vectors using +\n",
        "v3 = v1 + v2\n",
        "\n",
        "print(\"Vector 1:\", v1)\n",
        "print(\"Vector 2:\", v2)\n",
        "print(\"Vector 1 + Vector 2 =\", v3)\n"
      ],
      "metadata": {
        "colab": {
          "base_uri": "https://localhost:8080/"
        },
        "id": "j7uzMOYUC-dT",
        "outputId": "f4e47e14-6fc8-4fb0-9ac9-25c7a21cc75c"
      },
      "execution_count": null,
      "outputs": [
        {
          "output_type": "stream",
          "name": "stdout",
          "text": [
            "Vector 1: (2, 3)\n",
            "Vector 2: (4, 5)\n",
            "Vector 1 + Vector 2 = (6, 8)\n"
          ]
        }
      ]
    },
    {
      "cell_type": "markdown",
      "source": [
        "11. Create a class Person with attributes name and age. Add a method greet() that prints \"Hello, my name is\n",
        "{name} and I am {age} years old.\""
      ],
      "metadata": {
        "id": "-rdlIH2_DJK8"
      }
    },
    {
      "cell_type": "code",
      "source": [
        "class person:\n",
        "  def __init__(self, name, age):\n",
        "    self.name = name\n",
        "    self.age = age\n",
        "  def greet(self):\n",
        "    print(f\"hello, my name is {self.name}, and i am {self.age} yearss old\")\n",
        "p = person(\"anoop\", 24)\n",
        "p.greet()"
      ],
      "metadata": {
        "colab": {
          "base_uri": "https://localhost:8080/"
        },
        "id": "rW-24JC1DCk1",
        "outputId": "0ed89edb-1485-47e0-f280-6867730387d6"
      },
      "execution_count": null,
      "outputs": [
        {
          "output_type": "stream",
          "name": "stdout",
          "text": [
            "hello, my name is anoop, and i am 24 yearss old\n"
          ]
        }
      ]
    },
    {
      "cell_type": "markdown",
      "source": [
        "12. Implement a class Student with attributes name and grades. Create a method average_grade() to compute\n",
        "the average of the grades."
      ],
      "metadata": {
        "id": "bp1XZL2vEhIj"
      }
    },
    {
      "cell_type": "code",
      "source": [
        "class student:\n",
        "  def __init__(self, name, grades):\n",
        "    self.name = name\n",
        "    self.grades = grades\n",
        "  def average_grades(self):\n",
        "    if len(self.grades) == 0:\n",
        "      return 0\n",
        "    return sum(self.grades)/len(self.grades)\n",
        "s = student(\"anoop\", [56, 98, 99])\n",
        "s.average_grades()"
      ],
      "metadata": {
        "colab": {
          "base_uri": "https://localhost:8080/"
        },
        "id": "9QPJJHaYED5Q",
        "outputId": "2d3dd35b-d4b8-4d48-ad3d-4b350e88d039"
      },
      "execution_count": null,
      "outputs": [
        {
          "output_type": "execute_result",
          "data": {
            "text/plain": [
              "84.33333333333333"
            ]
          },
          "metadata": {},
          "execution_count": 26
        }
      ]
    },
    {
      "cell_type": "markdown",
      "source": [
        "13. Create a class Rectangle with methods set_dimensions() to set the dimensions and area() to calculate the\n",
        "area.\n"
      ],
      "metadata": {
        "id": "06qfVWsRG4sl"
      }
    },
    {
      "cell_type": "code",
      "source": [
        "class rectangle:\n",
        "  def __init__(self, l, b):\n",
        "    self.l = l\n",
        "    self.b = b\n",
        "  def area(self):\n",
        "    return self.l*self.b\n",
        "r = rectangle(4,5)\n",
        "print(r.area())\n",
        "r2 = rectangle(56,3)\n",
        "print(r2.area())"
      ],
      "metadata": {
        "colab": {
          "base_uri": "https://localhost:8080/"
        },
        "id": "6CAAZlxzGa2u",
        "outputId": "8b701d56-71d9-46f6-85cc-d45550f537e0"
      },
      "execution_count": null,
      "outputs": [
        {
          "output_type": "stream",
          "name": "stdout",
          "text": [
            "20\n",
            "168\n"
          ]
        }
      ]
    },
    {
      "cell_type": "markdown",
      "source": [
        "14. Create a class Employee with a method calculate_salary() that computes the salary based on hours worked\n",
        "and hourly rate. Create a derived class Manager that adds a bonus to the salary."
      ],
      "metadata": {
        "id": "9bLdN9D3IztS"
      }
    },
    {
      "cell_type": "code",
      "source": [
        "class employee:\n",
        "  def __init__(self, hours, wages):\n",
        "     self.hours = hours\n",
        "     self.wages = wages\n",
        "\n",
        "  def calculate_salary(self):\n",
        "    return self.hours*self.wages\n",
        "\n",
        "class manager(employee):\n",
        "  def __init__(self, hours, wages, bonous):\n",
        "   super().__init__(hours, wages)\n",
        "   self.bonous = bonous\n",
        "  def calculate_salary(self):\n",
        "    salary = super().calculate_salary() + self.bonous\n",
        "    return salary\n",
        "\n",
        "e1 = employee(24, 120)\n",
        "print(e1.calculate_salary())\n",
        "m1 = manager(24, 140, 1500)\n",
        "print(m1.calculate_salary())"
      ],
      "metadata": {
        "id": "v3Qy4CM9IXeq",
        "colab": {
          "base_uri": "https://localhost:8080/"
        },
        "outputId": "e34b290e-ea8c-4519-cced-8a71c4e96969"
      },
      "execution_count": 38,
      "outputs": [
        {
          "output_type": "stream",
          "name": "stdout",
          "text": [
            "2880\n",
            "4860\n"
          ]
        }
      ]
    },
    {
      "cell_type": "markdown",
      "source": [
        "15. Create a class Product with attributes name, price, and quantity. Implement a method total_price() that\n",
        "calculates the total price of the product."
      ],
      "metadata": {
        "id": "gTRuiw4SSR0p"
      }
    },
    {
      "cell_type": "code",
      "source": [
        "class product:\n",
        "  def __init__(self, name, price, quantity):\n",
        "    self.name = name\n",
        "    self.price = price\n",
        "    self.quantity = quantity\n",
        "  def total_price(self):\n",
        "    return self.quantity*self.price\n",
        "p1 = product(\"apple\", 120, 10)\n",
        "print(p1.total_price())"
      ],
      "metadata": {
        "colab": {
          "base_uri": "https://localhost:8080/"
        },
        "id": "ChBUR5mLQr3P",
        "outputId": "9404441c-546c-43db-90ab-466367f2a8de"
      },
      "execution_count": 39,
      "outputs": [
        {
          "output_type": "stream",
          "name": "stdout",
          "text": [
            "1200\n"
          ]
        }
      ]
    },
    {
      "cell_type": "markdown",
      "source": [
        "16. Create a class Animal with an abstract method sound(). Create two derived classes Cow and Sheep that\n",
        "implement the sound() method."
      ],
      "metadata": {
        "id": "7ZkZAWbiTesL"
      }
    },
    {
      "cell_type": "code",
      "source": [
        " from abc import ABC, abstractmethod\n",
        "\n",
        "class Animal(ABC):  # Inherit from ABC\n",
        "    @abstractmethod\n",
        "    def sound(self):\n",
        "        pass\n",
        "\n",
        "class Cow(Animal):\n",
        "    def sound(self):\n",
        "        print(\"mow mow mow mow\")\n",
        "\n",
        "class Sheep(Animal):\n",
        "    def sound(self):\n",
        "        print(\"mihiii mihiii mihiii\")\n",
        "\n",
        "# Creating objects\n",
        "c = Cow()\n",
        "c.sound()    # Output: mow mow mow mow\n",
        "\n",
        "s = Sheep()\n",
        "s.sound()    # Output: mihiii mihiii mihiii\n"
      ],
      "metadata": {
        "colab": {
          "base_uri": "https://localhost:8080/"
        },
        "id": "Gip9pXPzTQk-",
        "outputId": "4c8b6a19-e931-4c89-87f6-454866674bfa"
      },
      "execution_count": 43,
      "outputs": [
        {
          "output_type": "stream",
          "name": "stdout",
          "text": [
            "mow mow mow mow\n",
            "mihiii mihiii mihiii\n"
          ]
        }
      ]
    },
    {
      "cell_type": "markdown",
      "source": [
        "17. Create a class Book with attributes title, author, and year_published. Add a method get_book_info() that\n",
        "returns a formatted string with the book's details."
      ],
      "metadata": {
        "id": "nEQUH_uTVcgM"
      }
    },
    {
      "cell_type": "code",
      "source": [
        "class book:\n",
        "  def __init__(self, title, author, year_published):\n",
        "    self.title = title\n",
        "    self.author = author\n",
        "    self.year_published = year_published\n",
        "\n",
        "  def get_book_info(self):\n",
        "    print(f\"title: {self.title}, author: {self.author}, year_published: {self.year_published}\")\n",
        "\n",
        "b1 = book(\"python\", \"anoop\", 2025)\n",
        "print(b1.get_book_info())"
      ],
      "metadata": {
        "colab": {
          "base_uri": "https://localhost:8080/"
        },
        "id": "0ehfXjspUWnI",
        "outputId": "ceed58fb-3a0c-403b-af35-5907e173f166"
      },
      "execution_count": 46,
      "outputs": [
        {
          "output_type": "stream",
          "name": "stdout",
          "text": [
            "title: python, author: anoop, year_published: 2025\n",
            "None\n"
          ]
        }
      ]
    },
    {
      "cell_type": "markdown",
      "source": [
        "18. Create a class House with attributes address and price. Create a derived class Mansion that adds an\n",
        "attribute number_of_rooms."
      ],
      "metadata": {
        "id": "CtQQakuxW8wS"
      }
    },
    {
      "cell_type": "code",
      "source": [
        "class house:\n",
        "  def __init__(self, address, price):\n",
        "    self.address = address\n",
        "    self.price = price\n",
        "\n",
        "\n",
        "class mansion(house):\n",
        "  def __init__(self, address, price, numbers_of_rooms):\n",
        "    super().__init__(address, price)\n",
        "    self.numbers_of_rooms = numbers_of_rooms\n",
        "\n",
        "  def house_details(self):\n",
        "    print(f\"address:{self.address}, price:{self.price}, no of rooms {self.numbers_of_rooms}\")\n",
        "\n",
        "h1 = house(\"delhi\", 1000000)\n",
        "print(h1.address)\n",
        "h2 = mansion(\"delhi\", 1000000, 10)\n",
        "print(h2.house_details())"
      ],
      "metadata": {
        "colab": {
          "base_uri": "https://localhost:8080/"
        },
        "id": "Pm941bMWWo0H",
        "outputId": "298093c5-8647-4465-e167-c3e019bdb658"
      },
      "execution_count": 57,
      "outputs": [
        {
          "output_type": "stream",
          "name": "stdout",
          "text": [
            "delhi\n",
            "address:delhi, price:1000000, no of rooms 10\n",
            "None\n"
          ]
        }
      ]
    },
    {
      "cell_type": "code",
      "source": [],
      "metadata": {
        "id": "TdwEjeamZGn5"
      },
      "execution_count": null,
      "outputs": []
    }
  ]
}